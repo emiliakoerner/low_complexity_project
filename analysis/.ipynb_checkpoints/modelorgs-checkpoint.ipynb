{
 "cells": [
  {
   "cell_type": "markdown",
   "id": "1829e96f",
   "metadata": {},
   "source": [
    "## HR, HK, and PolyX Analysis\n",
    "\n",
    "This notebook processes the extracted data from `.txt` files and generates visualizations."
   ]
  },
  {
   "cell_type": "code",
   "execution_count": 2,
   "id": "8f3f0c15",
   "metadata": {},
   "outputs": [
    {
     "name": "stderr",
     "output_type": "stream",
     "text": [
      "\u001b[1m\u001b[22m\u001b[90m[conflicted]\u001b[39m Removing existing preference.\n",
      "\u001b[1m\u001b[22m\u001b[90m[conflicted]\u001b[39m Will prefer \u001b[1m\u001b[34mdplyr\u001b[39m\u001b[22m::filter over any\n",
      "other package.\n"
     ]
    }
   ],
   "source": [
    "# Load necessary libraries\n",
    "library(tidyverse)\n",
    "library(readxl)\n",
    "library(dplyr)\n",
    "library(conflicted)\n",
    "conflict_prefer(\"filter\", \"dplyr\")\n"
   ]
  },
  {
   "cell_type": "markdown",
   "id": "dbc9d678",
   "metadata": {},
   "source": [
    "## Set the organisms you want to process"
   ]
  },
  {
   "cell_type": "code",
   "execution_count": 3,
   "id": "894e0e29",
   "metadata": {},
   "outputs": [
    {
     "data": {
      "text/plain": [
       "\n",
       "\n",
       "Table: Mapping of UP Numbers to Organisms\n",
       "\n",
       "|UP_number   |Organism                 |\n",
       "|:-----------|:------------------------|\n",
       "|UP000000625 |Escherichia coli         |\n",
       "|UP000002311 |Saccharomyces cerevisiae |\n",
       "|UP000006548 |Arabidopsis thaliana     |\n",
       "|UP000001940 |Caenorhabditis elegans   |\n",
       "|UP000000803 |Drosophila melanogaster  |\n",
       "|UP000000589 |Mus musculus             |\n",
       "|UP000005640 |Homo sapiens             |"
      ]
     },
     "metadata": {},
     "output_type": "display_data"
    }
   ],
   "source": [
    "# Create a data frame for the UP numbers and organisms\n",
    "up_to_organism <- tibble(\n",
    "  UP_number = c(\"UP000000625\", \"UP000002311\", \"UP000006548\", \"UP000001940\", \"UP000000803\", \"UP000000589\", \"UP000005640\"),\n",
    "  Organism = c(\"Escherichia coli\", \"Saccharomyces cerevisiae\", \"Arabidopsis thaliana\", \n",
    "               \"Caenorhabditis elegans\", \"Drosophila melanogaster\", \"Mus musculus\", \"Homo sapiens\")\n",
    ")\n",
    "\n",
    "# Display the table using knitr::kable\n",
    "knitr::kable(up_to_organism, caption = \"Mapping of UP Numbers to Organisms\")\n"
   ]
  },
  {
   "cell_type": "markdown",
   "id": "8e046f0c",
   "metadata": {},
   "source": [
    "## Select organisms you want to display here.\n",
    "\n",
    "All organisms with their UP IDs in this list will be processed and shown in the figures."
   ]
  },
  {
   "cell_type": "code",
   "execution_count": 4,
   "id": "5af5ff23",
   "metadata": {},
   "outputs": [],
   "source": [
    "# Select only the organisms you want to plot\n",
    "selected_organisms <- c(\"UP000005640\", \"UP000000589\")\n",
    "# \"UP000000625\", \"UP000002311\", \"UP000001940\", \"UP000000803\", \"UP000006548\", is excluded"
   ]
  },
  {
   "cell_type": "markdown",
   "id": "565d8276",
   "metadata": {},
   "source": [
    "## Load Data\n",
    "\n",
    "Reading the `.tsv` files into R and combining them into a single dataframe."
   ]
  },
  {
   "cell_type": "code",
   "execution_count": 5,
   "id": "3c365002",
   "metadata": {},
   "outputs": [
    {
     "data": {
      "text/html": [
       "<table class=\"dataframe\">\n",
       "<caption>A tibble: 6 × 11</caption>\n",
       "<thead>\n",
       "\t<tr><th scope=col>Genename</th><th scope=col>Uniprot_id</th><th scope=col>Length</th><th scope=col>Polyx_count</th><th scope=col>Polyx_types</th><th scope=col>Polyx_lengths</th><th scope=col>Total_length</th><th scope=col>Pption_polyx</th><th scope=col>Count_grouped</th><th scope=col>Hk</th><th scope=col>Organism</th></tr>\n",
       "\t<tr><th scope=col>&lt;chr&gt;</th><th scope=col>&lt;chr&gt;</th><th scope=col>&lt;dbl&gt;</th><th scope=col>&lt;dbl&gt;</th><th scope=col>&lt;chr&gt;</th><th scope=col>&lt;chr&gt;</th><th scope=col>&lt;dbl&gt;</th><th scope=col>&lt;dbl&gt;</th><th scope=col>&lt;chr&gt;</th><th scope=col>&lt;dbl&gt;</th><th scope=col>&lt;chr&gt;</th></tr>\n",
       "</thead>\n",
       "<tbody>\n",
       "\t<tr><td>Trdv2-1  </td><td>A0A075B658</td><td>115</td><td>0</td><td>-</td><td>0</td><td>0</td><td>0</td><td>0</td><td>0</td><td>UP000000589</td></tr>\n",
       "\t<tr><td>Igkv8-21 </td><td>A0A140T8P7</td><td>120</td><td>0</td><td>-</td><td>0</td><td>0</td><td>0</td><td>0</td><td>0</td><td>UP000000589</td></tr>\n",
       "\t<tr><td>Btbd35f21</td><td>A0A140T8Q5</td><td>498</td><td>0</td><td>-</td><td>0</td><td>0</td><td>0</td><td>0</td><td>0</td><td>UP000000589</td></tr>\n",
       "\t<tr><td>Cdr2l    </td><td>A2A6T1    </td><td>465</td><td>0</td><td>-</td><td>0</td><td>0</td><td>0</td><td>0</td><td>0</td><td>UP000000589</td></tr>\n",
       "\t<tr><td>Pramel29 </td><td>A2A958    </td><td>498</td><td>0</td><td>-</td><td>0</td><td>0</td><td>0</td><td>0</td><td>0</td><td>UP000000589</td></tr>\n",
       "\t<tr><td>Patl2    </td><td>A2ARM1    </td><td>529</td><td>0</td><td>-</td><td>0</td><td>0</td><td>0</td><td>0</td><td>0</td><td>UP000000589</td></tr>\n",
       "</tbody>\n",
       "</table>\n"
      ],
      "text/latex": [
       "A tibble: 6 × 11\n",
       "\\begin{tabular}{lllllllllll}\n",
       " Genename & Uniprot\\_id & Length & Polyx\\_count & Polyx\\_types & Polyx\\_lengths & Total\\_length & Pption\\_polyx & Count\\_grouped & Hk & Organism\\\\\n",
       " <chr> & <chr> & <dbl> & <dbl> & <chr> & <chr> & <dbl> & <dbl> & <chr> & <dbl> & <chr>\\\\\n",
       "\\hline\n",
       "\t Trdv2-1   & A0A075B658 & 115 & 0 & - & 0 & 0 & 0 & 0 & 0 & UP000000589\\\\\n",
       "\t Igkv8-21  & A0A140T8P7 & 120 & 0 & - & 0 & 0 & 0 & 0 & 0 & UP000000589\\\\\n",
       "\t Btbd35f21 & A0A140T8Q5 & 498 & 0 & - & 0 & 0 & 0 & 0 & 0 & UP000000589\\\\\n",
       "\t Cdr2l     & A2A6T1     & 465 & 0 & - & 0 & 0 & 0 & 0 & 0 & UP000000589\\\\\n",
       "\t Pramel29  & A2A958     & 498 & 0 & - & 0 & 0 & 0 & 0 & 0 & UP000000589\\\\\n",
       "\t Patl2     & A2ARM1     & 529 & 0 & - & 0 & 0 & 0 & 0 & 0 & UP000000589\\\\\n",
       "\\end{tabular}\n"
      ],
      "text/markdown": [
       "\n",
       "A tibble: 6 × 11\n",
       "\n",
       "| Genename &lt;chr&gt; | Uniprot_id &lt;chr&gt; | Length &lt;dbl&gt; | Polyx_count &lt;dbl&gt; | Polyx_types &lt;chr&gt; | Polyx_lengths &lt;chr&gt; | Total_length &lt;dbl&gt; | Pption_polyx &lt;dbl&gt; | Count_grouped &lt;chr&gt; | Hk &lt;dbl&gt; | Organism &lt;chr&gt; |\n",
       "|---|---|---|---|---|---|---|---|---|---|---|\n",
       "| Trdv2-1   | A0A075B658 | 115 | 0 | - | 0 | 0 | 0 | 0 | 0 | UP000000589 |\n",
       "| Igkv8-21  | A0A140T8P7 | 120 | 0 | - | 0 | 0 | 0 | 0 | 0 | UP000000589 |\n",
       "| Btbd35f21 | A0A140T8Q5 | 498 | 0 | - | 0 | 0 | 0 | 0 | 0 | UP000000589 |\n",
       "| Cdr2l     | A2A6T1     | 465 | 0 | - | 0 | 0 | 0 | 0 | 0 | UP000000589 |\n",
       "| Pramel29  | A2A958     | 498 | 0 | - | 0 | 0 | 0 | 0 | 0 | UP000000589 |\n",
       "| Patl2     | A2ARM1     | 529 | 0 | - | 0 | 0 | 0 | 0 | 0 | UP000000589 |\n",
       "\n"
      ],
      "text/plain": [
       "  Genename  Uniprot_id Length Polyx_count Polyx_types Polyx_lengths\n",
       "1 Trdv2-1   A0A075B658 115    0           -           0            \n",
       "2 Igkv8-21  A0A140T8P7 120    0           -           0            \n",
       "3 Btbd35f21 A0A140T8Q5 498    0           -           0            \n",
       "4 Cdr2l     A2A6T1     465    0           -           0            \n",
       "5 Pramel29  A2A958     498    0           -           0            \n",
       "6 Patl2     A2ARM1     529    0           -           0            \n",
       "  Total_length Pption_polyx Count_grouped Hk Organism   \n",
       "1 0            0            0             0  UP000000589\n",
       "2 0            0            0             0  UP000000589\n",
       "3 0            0            0             0  UP000000589\n",
       "4 0            0            0             0  UP000000589\n",
       "5 0            0            0             0  UP000000589\n",
       "6 0            0            0             0  UP000000589"
      ]
     },
     "metadata": {},
     "output_type": "display_data"
    }
   ],
   "source": [
    "# Read in data from .tsv files\n",
    "file_paths <- list.files(\"./proteomes_hrs_hk\", pattern = \"*.tsv\", full.names = TRUE)\n",
    "organism_data <- file_paths %>%\n",
    "  map_dfr(~read_tsv(.x, show_col_types = FALSE) %>%\n",
    "            mutate(\n",
    "              Polyx_lengths = as.character(Polyx_lengths),\n",
    "              Count_grouped = as.character(Count_grouped),\n",
    "              Organism = str_remove(tools::file_path_sans_ext(basename(.x)), \"_hrs_hk\")\n",
    "            ))\n",
    "head(organism_data)\n",
    "\n",
    "HkPolyx <- organism_data %>%\n",
    "  filter(Organism %in% selected_organisms) %>%  # Filter data for selected organisms\n",
    "  droplevels() %>%\n",
    "  mutate(Organism = factor(Organism))\n",
    "\n",
    "#print(unique(HkPolyx$Organism))"
   ]
  },
  {
   "cell_type": "markdown",
   "id": "4fb0bdcc",
   "metadata": {},
   "source": [
    "## Data Processing\n",
    "\n",
    "Processing the data to classify HK and count groups properly."
   ]
  },
  {
   "cell_type": "code",
   "execution_count": 6,
   "id": "f0990de2",
   "metadata": {},
   "outputs": [],
   "source": [
    "HkPolyx <- HkPolyx %>%\n",
    "  mutate(Hk = recode(Hk, `0` = \"not Hk\", `1` = \"Hk\"),\n",
    "         Hk = as.factor(Hk),\n",
    "         Hk = factor(Hk, levels = rev(levels(Hk))),\n",
    "         Count_grouped = factor(Count_grouped, levels = c(\"0\", \"1\", \">1\")))\n",
    "\n"
   ]
  },
  {
   "cell_type": "markdown",
   "id": "a9c52f04",
   "metadata": {},
   "source": [
    "## Mutate column \"Count_grouped\" to either 0, 1 or \\>1 homorepeats"
   ]
  },
  {
   "cell_type": "code",
   "execution_count": 7,
   "id": "bd340ae9",
   "metadata": {},
   "outputs": [],
   "source": [
    "HkPolyx <- HkPolyx %>%\n",
    "  mutate(\n",
    "    Count_grouped = case_when(\n",
    "      Polyx_count == \"0\" ~ \"0\",\n",
    "      Polyx_count == \"1\" ~ \"1\",\n",
    "      as.numeric(Polyx_count) > 1 ~ \">1\",  # for values greater than 2\n",
    "      TRUE ~ NA_character_  # handle any unexpected values\n",
    "    ),\n",
    "    Count_grouped = factor(Count_grouped, levels = c(\"0\", \"1\", \">1\"))\n",
    "  )"
   ]
  },
  {
   "cell_type": "markdown",
   "id": "ec680707",
   "metadata": {},
   "source": [
    "## Link UP IDs to scientific organism names"
   ]
  },
  {
   "cell_type": "code",
   "execution_count": 8,
   "id": "e690fd6d",
   "metadata": {},
   "outputs": [],
   "source": [
    "# organism names\n",
    "organism_labels <- c(\n",
    "  \"UP000000625\" = \"italic('E. coli')\",\n",
    "  \"UP000002311\" = \"italic('S. cerevisiae')\",\n",
    "  \"UP000001940\" = \"italic('C. elegans')\",\n",
    "  \"UP000000803\" = \"italic('D. melanogaster')\",\n",
    "  \"UP000000589\" = \"italic('M. musculus')\",\n",
    "  \"UP000005640\" = \"italic('Homo sapiens')\",\n",
    "  \"UP000006548\" = \"italic('A. thaliana')\"\n",
    ")"
   ]
  },
  {
   "cell_type": "markdown",
   "id": "20cb8313",
   "metadata": {},
   "source": [
    "## HK Visualization - Protein length by HK"
   ]
  },
  {
   "cell_type": "code",
   "execution_count": 9,
   "id": "721731ee",
   "metadata": {},
   "outputs": [
    {
     "data": {
      "image/png": "[encoded data removed]",
      "text/plain": [
       "plot without title"
      ]
     },
     "metadata": {
      "image/png": {
       "height": 420,
       "width": 420
      }
     },
     "output_type": "display_data"
    }
   ],
   "source": [
    "\n",
    "# Convert Organism column AFTER filtering\n",
    "HkPolyx$Organism <- factor(HkPolyx$Organism, levels = selected_organisms, labels = organism_labels[selected_organisms])\n",
    "\n",
    "# manual significance values\n",
    "significance_values_hk <- c(\n",
    "  \"UP000000625\" = \"***\",\n",
    "  \"UP000002311\" = \"***\",\n",
    "  \"UP000001940\" = \"***\",\n",
    "  \"UP000000803\" = \"***\",\n",
    "  \"UP000000589\" = \"***\",\n",
    "  \"UP000006548\" = \"***\",\n",
    "  \"UP000005640\" = \"***\"\n",
    ")\n",
    "\n",
    "\n",
    "significance_hk_filtered <- tibble(\n",
    "  Organism = factor(\n",
    "    selected_organisms, \n",
    "    levels = selected_organisms, \n",
    "    labels = organism_labels[selected_organisms]\n",
    "  ),\n",
    "  x = rep(1.5, length(selected_organisms)),\n",
    "  y = rep(900, length(selected_organisms)),\n",
    "  label = significance_values_hk[selected_organisms]\n",
    ")\n",
    "\n",
    "# final plot\n",
    "HkPolyx %>%\n",
    "  ggplot(aes(x = Hk, y = Length, fill = Hk)) +\n",
    "  geom_boxplot(size = 1.2, notch = TRUE) +\n",
    "  ylab(\"Protein length (aa)\") +\n",
    "  coord_cartesian(ylim = c(100, 900)) +\n",
    "  scale_fill_manual(values = c(\"#ffc8d2\", \"#ccffee\")) +\n",
    "  stat_summary(fun = \"mean\", geom = \"point\", shape = 21, size = 4, color = \"black\", fill = \"white\") +\n",
    "  facet_wrap(~Organism, ncol = 3, labeller = label_parsed, drop = TRUE) +\n",
    "  theme_minimal() +\n",
    "  geom_text(data = significance_hk_filtered, aes(x = x, y = y, label = label), size = 5, color = \"black\", inherit.aes = FALSE)\n"
   ]
  },
  {
   "cell_type": "markdown",
   "id": "37eea3a7",
   "metadata": {},
   "source": [
    "## HR Visualization - Protein Length by HR\n",
    "\n",
    "Generating a boxplot of protein length grouped by the number of homorepeats."
   ]
  },
  {
   "cell_type": "code",
   "execution_count": 10,
   "id": "05c418ee",
   "metadata": {},
   "outputs": [
    {
     "data": {
      "image/png": "[encoded data removed]",
      "text/plain": [
       "plot without title"
      ]
     },
     "metadata": {
      "image/png": {
       "height": 420,
       "width": 420
      }
     },
     "output_type": "display_data"
    }
   ],
   "source": [
    "\n",
    "# Manual significance levels\n",
    "significance_values_HR <- c(\n",
    "  \"UP000000625\" = \"ns\",\n",
    "  \"UP000002311\" = \"***\",\n",
    "  \"UP000001940\" = \"***\",\n",
    "  \"UP000000803\" = \"***\",\n",
    "  \"UP000000589\" = \"***\",\n",
    "  \"UP000006548\" = \"***\",\n",
    "  \"UP000005640\" = \"***\"\n",
    ")\n",
    "\n",
    "# Create significance table with two labels for each organism, including one at x = 2.5 for all but E. coli\n",
    "# Exclude E. coli from the second label position\n",
    "significance_HR_filtered <- tibble()\n",
    "\n",
    "# Loop through selected organisms to add the labels dynamically\n",
    "for (org in selected_organisms) {\n",
    "  # First label for each organism at x = 1.5\n",
    "  significance_HR_filtered <- bind_rows(significance_HR_filtered,\n",
    "    tibble(\n",
    "      Organism = factor(org, levels = selected_organisms, labels = organism_labels[selected_organisms]),\n",
    "      x = 1.5,\n",
    "      y = 1500,\n",
    "      label = significance_values_HR[org]\n",
    "    )\n",
    "  )\n",
    "  \n",
    "  # Second label for organisms except E. coli\n",
    "  if (org != \"UP000000625\") {\n",
    "    significance_HR_filtered <- bind_rows(significance_HR_filtered,\n",
    "      tibble(\n",
    "        Organism = factor(org, levels = selected_organisms, labels = organism_labels[selected_organisms]),\n",
    "        x = 2.5,\n",
    "        y = 1500,\n",
    "        label = significance_values_HR[org]\n",
    "      )\n",
    "    )\n",
    "  }\n",
    "}\n",
    "\n",
    "# final plot\n",
    "HkPolyx %>%\n",
    "  ggplot(aes(x = Count_grouped, y = Length, fill = Count_grouped)) +\n",
    "  geom_boxplot(size = 1.2, notch = TRUE) +\n",
    "  xlab(\"Number of Homorepeats\") +\n",
    "  ylab(\"Protein length (aa)\") +\n",
    "  coord_cartesian(ylim = c(100, 1600)) +\n",
    "  scale_fill_manual(name = \"HR count\", values = c(\"#4d79ff\", \"#ccffee\", \"#ffffff\")) +\n",
    "  stat_summary(fun = \"mean\", geom = \"point\", shape = 21, size = 4, color = \"black\", fill = \"white\") +\n",
    "  facet_wrap(~Organism, ncol = 3, labeller = label_parsed, drop = TRUE) +\n",
    "  theme_minimal() +\n",
    "  geom_text(data = significance_HR_filtered, aes(x = x, y = y, label = label), size = 4, color = \"black\", inherit.aes = FALSE)\n"
   ]
  },
  {
   "cell_type": "markdown",
   "id": "3dc283e4",
   "metadata": {},
   "source": [
    "## Check p-values for significance with Wilcoxon test"
   ]
  },
  {
   "cell_type": "code",
   "execution_count": 11,
   "id": "304488f9",
   "metadata": {},
   "outputs": [
    {
     "name": "stdout",
     "output_type": "stream",
     "text": [
      "\u001b[90m# A tibble: 2 × 3\u001b[39m\n",
      "  Organism                p_value significance\n",
      "  \u001b[3m\u001b[90m<fct>\u001b[39m\u001b[23m                     \u001b[3m\u001b[90m<dbl>\u001b[39m\u001b[23m \u001b[3m\u001b[90m<chr>\u001b[39m\u001b[23m       \n",
      "\u001b[90m1\u001b[39m italic('Homo sapiens') 1.18\u001b[90me\u001b[39m\u001b[31m-29\u001b[39m ***         \n",
      "\u001b[90m2\u001b[39m italic('M. musculus')  5.16\u001b[90me\u001b[39m\u001b[31m-16\u001b[39m ***         \n",
      "\u001b[90m# A tibble: 2 × 2\u001b[39m\n",
      "\u001b[90m# Groups:   Organism [2]\u001b[39m\n",
      "  Organism               p_value_0_1\n",
      "  \u001b[3m\u001b[90m<fct>\u001b[39m\u001b[23m                        \u001b[3m\u001b[90m<dbl>\u001b[39m\u001b[23m\n",
      "\u001b[90m1\u001b[39m italic('Homo sapiens')   9.71\u001b[90me\u001b[39m\u001b[31m-106\u001b[39m\n",
      "\u001b[90m2\u001b[39m italic('M. musculus')    7.44\u001b[90me\u001b[39m\u001b[31m-124\u001b[39m\n",
      "\u001b[90m# A tibble: 2 × 2\u001b[39m\n",
      "\u001b[90m# Groups:   Organism [2]\u001b[39m\n",
      "  Organism               p_value_0_1\n",
      "  \u001b[3m\u001b[90m<fct>\u001b[39m\u001b[23m                        \u001b[3m\u001b[90m<dbl>\u001b[39m\u001b[23m\n",
      "\u001b[90m1\u001b[39m italic('Homo sapiens')    2.58\u001b[90me\u001b[39m\u001b[31m-11\u001b[39m\n",
      "\u001b[90m2\u001b[39m italic('M. musculus')     4.80\u001b[90me\u001b[39m\u001b[31m- 9\u001b[39m\n"
     ]
    }
   ],
   "source": [
    "# Wilcoxon Rank-Sum Test for Plot 1: Protein Length by Housekeeping Status\n",
    "plot1_stats <- HkPolyx %>%\n",
    "  group_by(Organism) %>%\n",
    "  summarise(\n",
    "    p_value = wilcox.test(Length ~ Hk)$p.value\n",
    "  ) %>%\n",
    "  mutate(significance = case_when(\n",
    "    p_value < 0.001 ~ \"***\",\n",
    "    p_value < 0.01 ~ \"**\",\n",
    "    p_value < 0.05 ~ \"*\",\n",
    "    TRUE ~ \"ns\"\n",
    "  ))\n",
    "\n",
    "print(plot1_stats)\n",
    "\n",
    "# Apply Wilcoxon test for each organism for 0 vs. 1\n",
    "plot2_0_1 <- HkPolyx %>%\n",
    "  group_by(Organism) %>%\n",
    "  filter(Count_grouped %in% c(\"0\", \"1\")) %>%\n",
    "  do({\n",
    "    # Perform the Wilcoxon test for the current organism\n",
    "    test_result <- wilcox.test(Length ~ Count_grouped, data = ., correct = TRUE)\n",
    "    # Return the p-value for the test\n",
    "    tibble(p_value_0_1 = test_result$p.value)\n",
    "  })\n",
    "\n",
    "# View the results\n",
    "print(plot2_0_1)\n",
    "\n",
    "# Apply Wilcoxon test for each organism for 1 vs. >1\n",
    "plot2_1_2 <- HkPolyx %>%\n",
    "  filter(Organism != \"italic('E. coli')\") %>%\n",
    "  group_by(Organism) %>%\n",
    "  filter(Count_grouped %in% c(\"1\", \">1\")) %>%\n",
    "  do({\n",
    "    # Perform the Wilcoxon test for the current organism\n",
    "    test_result <- wilcox.test(Length ~ Count_grouped, data = ., correct = TRUE)\n",
    "    # Return the p-value for the test\n",
    "    tibble(p_value_0_1 = test_result$p.value)\n",
    "  })\n",
    "\n",
    "print(plot2_1_2)"
   ]
  }
 ],
 "metadata": {
  "jupytext": {
   "cell_metadata_filter": "-all",
   "main_language": "R",
   "notebook_metadata_filter": "-all"
  },
  "kernelspec": {
   "display_name": "R",
   "language": "R",
   "name": "ir"
  },
  "language_info": {
   "codemirror_mode": "r",
   "file_extension": ".r",
   "mimetype": "text/x-r-source",
   "name": "R",
   "pygments_lexer": "r",
   "version": "4.3.2"
  }
 },
 "nbformat": 4,
 "nbformat_minor": 5
}
