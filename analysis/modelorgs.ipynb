{
 "cells": [
  {
   "cell_type": "markdown",
   "metadata": {},
   "source": [
    "# HR, HK, and PolyX Analysis\n",
    "\n",
    "This notebook processes extracted data from `.txt` files and generates visualizations."
   ]
  },
  {
   "cell_type": "code",
   "metadata": {},
   "source": [
    "# Load necessary libraries\n",
    "library(tidyverse)\n",
    "library(readxl)\n",
    "library(dplyr)\n",
    "library(conflicted)\n",
    "conflict_prefer(\"filter\", \"dplyr\")"
   ]
  },
  {
   "cell_type": "markdown",
   "metadata": {},
   "source": [
    "## Define Organisms to Process\n",
    "Specify the organisms for analysis."
   ]
  },
  {
   "cell_type": "code",
   "metadata": {},
   "source": [
    "# Define a mapping of UP numbers to organism names\n",
    "up_to_organism <- tibble(\n",
    "  UP_number = c(\"UP000000625\", \"UP000002311\", \"UP000006548\", \n",
    "               \"UP000001940\", \"UP000000803\", \"UP000000589\", \"UP000005640\"),\n",
    "  Organism = c(\"Escherichia coli\", \"Saccharomyces cerevisiae\", \"Arabidopsis thaliana\",\n",
    "              \"Caenorhabditis elegans\", \"Drosophila melanogaster\", \"Mus musculus\", \"Homo sapiens\")\n",
    ")\n",
    "\n",
    "# Display table\n",
    "knitr::kable(up_to_organism, caption = \"Mapping of UP Numbers to Organisms\")"
   ]
  },
  {
   "cell_type": "markdown",
   "metadata": {},
   "source": [
    "## Select Organisms to Include in Analysis"
   ]
  },
  {
   "cell_type": "code",
   "metadata": {},
   "source": [
    "# Specify selected organisms\n",
    "selected_organisms <- c(\"UP000005640\", \"UP000000589\") # Modify as needed"
   ]
  },
  {
   "cell_type": "markdown",
   "metadata": {},
   "source": [
    "## Load Data\n",
    "Reading `.tsv` files into R and combining them into a single dataframe."
   ]
  },
  {
   "cell_type": "code",
   "metadata": {},
   "source": [
    "# Read data from .tsv files\n",
    "file_paths <- list.files(\"~/Master/proteomes_hrs_hk\", pattern = \"*.tsv\", full.names = TRUE)\n",
    "organism_data <- file_paths %>%\n",
    "  map_dfr(~read_tsv(.x, show_col_types = FALSE) %>%\n",
    "            mutate(\n",
    "              Polyx_lengths = as.character(Polyx_lengths),\n",
    "              Count_grouped = as.character(Count_grouped),\n",
    "              Organism = str_remove(tools::file_path_sans_ext(basename(.x)), \"_hrs_hk\")\n",
    "            ))\n",
    "head(organism_data)"
   ]
  },
  {
   "cell_type": "markdown",
   "metadata": {},
   "source": [
    "## Data Processing\n",
    "Processing the data to classify HK and count groups properly."
   ]
  },
  {
   "cell_type": "code",
   "metadata": {},
   "source": [
    "# Modify HK classification\n",
    "HkPolyx <- organism_data %>%\n",
    "  filter(Organism %in% selected_organisms) %>%\n",
    "  mutate(Hk = recode(Hk, `0` = \"not Hk\", `1` = \"Hk\"))\n"
   ]
  },
  {
   "cell_type": "markdown",
   "metadata": {},
   "source": [
    "## Visualization: HK Protein Length\n",
    "Generating a boxplot of protein length grouped by HK status."
   ]
  },
  {
   "cell_type": "code",
   "metadata": {},
   "source": [
    "# Plot HK protein length\n",
    "ggplot(HkPolyx, aes(x = Hk, y = Length, fill = Hk)) +\n",
    "  geom_boxplot() +\n",
    "  theme_minimal()"
   ]
  },
  {
   "cell_type": "markdown",
   "metadata": {},
   "source": [
    "## Statistical Analysis\n",
    "Wilcoxon test to check significance."
   ]
  },
  {
   "cell_type": "code",
   "metadata": {},
   "source": [
    "# Wilcoxon test for HK\n",
    "HkPolyx %>%\n",
    "  group_by(Organism) %>%\n",
    "  summarise(p_value = wilcox.test(Length ~ Hk)$p.value)"
   ]
  }
 ],
 "nbformat": 4,
 "nbformat_minor": 5,
 "metadata": {}
}
