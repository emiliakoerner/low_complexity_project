{
 "cells": [
  {
   "cell_type": "markdown",
   "id": "63ced74f",
   "metadata": {},
   "source": [
    "## HR, HK, and PolyX Analysis\n",
    "\n",
    "This notebook processes the extracted data from `.txt` files and generates visualizations."
   ]
  },
  {
   "cell_type": "code",
   "execution_count": null,
   "id": "37b2367b",
   "metadata": {},
   "outputs": [],
   "source": [
    "# Load necessary libraries\n",
    "library(tidyverse)\n",
    "library(readxl)\n",
    "library(dplyr)\n",
    "library(conflicted)\n",
    "conflict_prefer(\"filter\", \"dplyr\")\n"
   ]
  },
  {
   "cell_type": "markdown",
   "id": "0dcc3c76",
   "metadata": {},
   "source": [
    "## Set the organisms you want to process"
   ]
  },
  {
   "cell_type": "code",
   "execution_count": null,
   "id": "a08c5fce",
   "metadata": {},
   "outputs": [],
   "source": [
    "# Create a data frame for the UP numbers and organisms\n",
    "up_to_organism <- tibble(\n",
    "  UP_number = c(\"UP000000625\", \"UP000002311\", \"UP000006548\", \"UP000001940\", \"UP000000803\", \"UP000000589\", \"UP000005640\"),\n",
    "  Organism = c(\"Escherichia coli\", \"Saccharomyces cerevisiae\", \"Arabidopsis thaliana\", \n",
    "               \"Caenorhabditis elegans\", \"Drosophila melanogaster\", \"Mus musculus\", \"Homo sapiens\")\n",
    ")\n",
    "\n",
    "# Display the table using knitr::kable\n",
    "knitr::kable(up_to_organism, caption = \"Mapping of UP Numbers to Organisms\")\n"
   ]
  },
  {
   "cell_type": "markdown",
   "id": "61f85ecb",
   "metadata": {},
   "source": [
    "## Select organisms you want to display here.\n",
    "\n",
    "All organisms with their UP IDs in this list will be processed and shown in the figures."
   ]
  },
  {
   "cell_type": "code",
   "execution_count": null,
   "id": "2e72597c",
   "metadata": {},
   "outputs": [],
   "source": [
    "# Select only the organisms you want to plot\n",
    "selected_organisms <- c(\"UP000005640\", \"UP000000589\")\n",
    "# \"UP000000625\", \"UP000002311\", \"UP000001940\", \"UP000000803\", \"UP000006548\", is excluded"
   ]
  },
  {
   "cell_type": "markdown",
   "id": "841c7853",
   "metadata": {},
   "source": [
    "## Load Data\n",
    "\n",
    "Reading the `.tsv` files into R and combining them into a single dataframe."
   ]
  },
  {
   "cell_type": "code",
   "execution_count": null,
   "id": "4a92cc02",
   "metadata": {},
   "outputs": [],
   "source": [
    "# Read in data from .tsv files\n",
    "file_paths <- list.files(\"./proteomes_hrs_hk\", pattern = \"*.tsv\", full.names = TRUE)\n",
    "organism_data <- file_paths %>%\n",
    "  map_dfr(~read_tsv(.x, show_col_types = FALSE) %>%\n",
    "            mutate(\n",
    "              Polyx_lengths = as.character(Polyx_lengths),\n",
    "              Count_grouped = as.character(Count_grouped),\n",
    "              Organism = str_remove(tools::file_path_sans_ext(basename(.x)), \"_hrs_hk\")\n",
    "            ))\n",
    "head(organism_data)\n",
    "\n",
    "HkPolyx <- organism_data %>%\n",
    "  filter(Organism %in% selected_organisms) %>%  # Filter data for selected organisms\n",
    "  droplevels() %>%\n",
    "  mutate(Organism = factor(Organism))\n",
    "\n",
    "#print(unique(HkPolyx$Organism))"
   ]
  },
  {
   "cell_type": "markdown",
   "id": "c7fdefbf",
   "metadata": {},
   "source": [
    "## Data Processing\n",
    "\n",
    "Processing the data to classify HK and count groups properly."
   ]
  },
  {
   "cell_type": "code",
   "execution_count": null,
   "id": "6aaedd13",
   "metadata": {},
   "outputs": [],
   "source": [
    "HkPolyx <- HkPolyx %>%\n",
    "  mutate(Hk = recode(Hk, `0` = \"not Hk\", `1` = \"Hk\"),\n",
    "         Hk = as.factor(Hk),\n",
    "         Hk = factor(Hk, levels = rev(levels(Hk))),\n",
    "         Count_grouped = factor(Count_grouped, levels = c(\"0\", \"1\", \">1\")))\n",
    "\n"
   ]
  },
  {
   "cell_type": "markdown",
   "id": "f8dd2d9c",
   "metadata": {},
   "source": [
    "## Mutate column \"Count_grouped\" to either 0, 1 or \\>1 homorepeats"
   ]
  },
  {
   "cell_type": "code",
   "execution_count": null,
   "id": "95425dfc",
   "metadata": {},
   "outputs": [],
   "source": [
    "HkPolyx <- HkPolyx %>%\n",
    "  mutate(\n",
    "    Count_grouped = case_when(\n",
    "      Polyx_count == \"0\" ~ \"0\",\n",
    "      Polyx_count == \"1\" ~ \"1\",\n",
    "      as.numeric(Polyx_count) > 1 ~ \">1\",  # for values greater than 2\n",
    "      TRUE ~ NA_character_  # handle any unexpected values\n",
    "    ),\n",
    "    Count_grouped = factor(Count_grouped, levels = c(\"0\", \"1\", \">1\"))\n",
    "  )"
   ]
  },
  {
   "cell_type": "markdown",
   "id": "8c19b1e9",
   "metadata": {},
   "source": [
    "## Link UP IDs to scientific organism names"
   ]
  },
  {
   "cell_type": "code",
   "execution_count": null,
   "id": "fffb2791",
   "metadata": {},
   "outputs": [],
   "source": [
    "# organism names\n",
    "organism_labels <- c(\n",
    "  \"UP000000625\" = \"italic('E. coli')\",\n",
    "  \"UP000002311\" = \"italic('S. cerevisiae')\",\n",
    "  \"UP000001940\" = \"italic('C. elegans')\",\n",
    "  \"UP000000803\" = \"italic('D. melanogaster')\",\n",
    "  \"UP000000589\" = \"italic('M. musculus')\",\n",
    "  \"UP000005640\" = \"italic('Homo sapiens')\",\n",
    "  \"UP000006548\" = \"italic('A. thaliana')\"\n",
    ")"
   ]
  },
  {
   "cell_type": "markdown",
   "id": "eead6bc5",
   "metadata": {},
   "source": [
    "## HK Visualization - Protein length by HK"
   ]
  },
  {
   "cell_type": "code",
   "execution_count": null,
   "id": "7cb383e9",
   "metadata": {},
   "outputs": [],
   "source": [
    "\n",
    "# Convert Organism column AFTER filtering\n",
    "HkPolyx$Organism <- factor(HkPolyx$Organism, levels = selected_organisms, labels = organism_labels[selected_organisms])\n",
    "\n",
    "# manual significance values\n",
    "significance_values_hk <- c(\n",
    "  \"UP000000625\" = \"***\",\n",
    "  \"UP000002311\" = \"***\",\n",
    "  \"UP000001940\" = \"***\",\n",
    "  \"UP000000803\" = \"***\",\n",
    "  \"UP000000589\" = \"***\",\n",
    "  \"UP000006548\" = \"***\",\n",
    "  \"UP000005640\" = \"***\"\n",
    ")\n",
    "\n",
    "\n",
    "significance_hk_filtered <- tibble(\n",
    "  Organism = factor(\n",
    "    selected_organisms, \n",
    "    levels = selected_organisms, \n",
    "    labels = organism_labels[selected_organisms]\n",
    "  ),\n",
    "  x = rep(1.5, length(selected_organisms)),\n",
    "  y = rep(900, length(selected_organisms)),\n",
    "  label = significance_values_hk[selected_organisms]\n",
    ")\n",
    "\n",
    "# final plot\n",
    "HkPolyx %>%\n",
    "  ggplot(aes(x = Hk, y = Length, fill = Hk)) +\n",
    "  geom_boxplot(size = 1.2, notch = TRUE) +\n",
    "  ylab(\"Protein length (aa)\") +\n",
    "  coord_cartesian(ylim = c(100, 900)) +\n",
    "  scale_fill_manual(values = c(\"#ffc8d2\", \"#ccffee\")) +\n",
    "  stat_summary(fun = \"mean\", geom = \"point\", shape = 21, size = 4, color = \"black\", fill = \"white\") +\n",
    "  facet_wrap(~Organism, ncol = 3, labeller = label_parsed, drop = TRUE) +\n",
    "  theme_minimal() +\n",
    "  geom_text(data = significance_hk_filtered, aes(x = x, y = y, label = label), size = 5, color = \"black\", inherit.aes = FALSE)\n"
   ]
  },
  {
   "cell_type": "markdown",
   "id": "f7821a7b",
   "metadata": {},
   "source": [
    "## HR Visualization - Protein Length by HR\n",
    "\n",
    "Generating a boxplot of protein length grouped by the number of homorepeats."
   ]
  },
  {
   "cell_type": "code",
   "execution_count": null,
   "id": "239ce44d",
   "metadata": {},
   "outputs": [],
   "source": [
    "\n",
    "# Manual significance levels\n",
    "significance_values_HR <- c(\n",
    "  \"UP000000625\" = \"ns\",\n",
    "  \"UP000002311\" = \"***\",\n",
    "  \"UP000001940\" = \"***\",\n",
    "  \"UP000000803\" = \"***\",\n",
    "  \"UP000000589\" = \"***\",\n",
    "  \"UP000006548\" = \"***\",\n",
    "  \"UP000005640\" = \"***\"\n",
    ")\n",
    "\n",
    "# Create significance table with two labels for each organism, including one at x = 2.5 for all but E. coli\n",
    "# Exclude E. coli from the second label position\n",
    "significance_HR_filtered <- tibble()\n",
    "\n",
    "# Loop through selected organisms to add the labels dynamically\n",
    "for (org in selected_organisms) {\n",
    "  # First label for each organism at x = 1.5\n",
    "  significance_HR_filtered <- bind_rows(significance_HR_filtered,\n",
    "    tibble(\n",
    "      Organism = factor(org, levels = selected_organisms, labels = organism_labels[selected_organisms]),\n",
    "      x = 1.5,\n",
    "      y = 1500,\n",
    "      label = significance_values_HR[org]\n",
    "    )\n",
    "  )\n",
    "  \n",
    "  # Second label for organisms except E. coli\n",
    "  if (org != \"UP000000625\") {\n",
    "    significance_HR_filtered <- bind_rows(significance_HR_filtered,\n",
    "      tibble(\n",
    "        Organism = factor(org, levels = selected_organisms, labels = organism_labels[selected_organisms]),\n",
    "        x = 2.5,\n",
    "        y = 1500,\n",
    "        label = significance_values_HR[org]\n",
    "      )\n",
    "    )\n",
    "  }\n",
    "}\n",
    "\n",
    "# final plot\n",
    "HkPolyx %>%\n",
    "  ggplot(aes(x = Count_grouped, y = Length, fill = Count_grouped)) +\n",
    "  geom_boxplot(size = 1.2, notch = TRUE) +\n",
    "  xlab(\"Number of Homorepeats\") +\n",
    "  ylab(\"Protein length (aa)\") +\n",
    "  coord_cartesian(ylim = c(100, 1600)) +\n",
    "  scale_fill_manual(name = \"HR count\", values = c(\"#4d79ff\", \"#ccffee\", \"#ffffff\")) +\n",
    "  stat_summary(fun = \"mean\", geom = \"point\", shape = 21, size = 4, color = \"black\", fill = \"white\") +\n",
    "  facet_wrap(~Organism, ncol = 3, labeller = label_parsed, drop = TRUE) +\n",
    "  theme_minimal() +\n",
    "  geom_text(data = significance_HR_filtered, aes(x = x, y = y, label = label), size = 4, color = \"black\", inherit.aes = FALSE)\n"
   ]
  },
  {
   "cell_type": "markdown",
   "id": "85accc0b",
   "metadata": {},
   "source": [
    "## Check p-values for significance with Wilcoxon test"
   ]
  },
  {
   "cell_type": "code",
   "execution_count": null,
   "id": "8b9bead5",
   "metadata": {},
   "outputs": [],
   "source": [
    "# Wilcoxon Rank-Sum Test for Plot 1: Protein Length by Housekeeping Status\n",
    "plot1_stats <- HkPolyx %>%\n",
    "  group_by(Organism) %>%\n",
    "  summarise(\n",
    "    p_value = wilcox.test(Length ~ Hk)$p.value\n",
    "  ) %>%\n",
    "  mutate(significance = case_when(\n",
    "    p_value < 0.001 ~ \"***\",\n",
    "    p_value < 0.01 ~ \"**\",\n",
    "    p_value < 0.05 ~ \"*\",\n",
    "    TRUE ~ \"ns\"\n",
    "  ))\n",
    "\n",
    "print(plot1_stats)\n",
    "\n",
    "# Apply Wilcoxon test for each organism for 0 vs. 1\n",
    "plot2_0_1 <- HkPolyx %>%\n",
    "  group_by(Organism) %>%\n",
    "  filter(Count_grouped %in% c(\"0\", \"1\")) %>%\n",
    "  do({\n",
    "    # Perform the Wilcoxon test for the current organism\n",
    "    test_result <- wilcox.test(Length ~ Count_grouped, data = ., correct = TRUE)\n",
    "    # Return the p-value for the test\n",
    "    tibble(p_value_0_1 = test_result$p.value)\n",
    "  })\n",
    "\n",
    "# View the results\n",
    "print(plot2_0_1)\n",
    "\n",
    "# Apply Wilcoxon test for each organism for 1 vs. >1\n",
    "plot2_1_2 <- HkPolyx %>%\n",
    "  filter(Organism != \"italic('E. coli')\") %>%\n",
    "  group_by(Organism) %>%\n",
    "  filter(Count_grouped %in% c(\"1\", \">1\")) %>%\n",
    "  do({\n",
    "    # Perform the Wilcoxon test for the current organism\n",
    "    test_result <- wilcox.test(Length ~ Count_grouped, data = ., correct = TRUE)\n",
    "    # Return the p-value for the test\n",
    "    tibble(p_value_0_1 = test_result$p.value)\n",
    "  })\n",
    "\n",
    "print(plot2_1_2)"
   ]
  }
 ],
 "metadata": {
  "jupytext": {
   "cell_metadata_filter": "-all",
   "main_language": "R",
   "notebook_metadata_filter": "-all"
  }
 },
 "nbformat": 4,
 "nbformat_minor": 5
}
